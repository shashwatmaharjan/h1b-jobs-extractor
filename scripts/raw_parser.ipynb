{
 "cells": [
  {
   "cell_type": "code",
   "execution_count": null,
   "metadata": {},
   "outputs": [],
   "source": [
    "# Import necessary libraries\n",
    "import os\n",
    "import pandas as pd"
   ]
  },
  {
   "cell_type": "code",
   "execution_count": null,
   "metadata": {},
   "outputs": [],
   "source": [
    "# Function to remove directory if empty\n",
    "def delete_directory(path_to_directory):\n",
    "\n",
    "    # Delete the created folder, if empty\n",
    "    try:\n",
    "\n",
    "        # Remove directory\n",
    "        os.rmdir(path_to_directory)\n",
    "        print(f'Deleted {path_to_directory} folder.')\n",
    "    \n",
    "    except:\n",
    "\n",
    "        print(f'Error in deleting {path_to_directory} folder.')"
   ]
  },
  {
   "cell_type": "code",
   "execution_count": null,
   "metadata": {},
   "outputs": [],
   "source": [
    "# Function to extract data from the excel file based on keywords\n",
    "def extract_data(keywords, path_to_save_folder, df):\n",
    "\n",
    "    # Loop through the keywords\n",
    "    for n_keyword, keyword in enumerate(keywords):\n",
    "\n",
    "        # Check if this is the first keyword\n",
    "        if n_keyword == 0:\n",
    "\n",
    "            # Pull out only those rows that have the 'keyword' in the job title\n",
    "            df_keyword = df[df['JOB_TITLE'].str.contains(keyword, case=False)]\n",
    "        \n",
    "        else:\n",
    "\n",
    "            # Pull out only those rows that have the 'keyword' in the job title\n",
    "            df_keyword = df_keyword[df_keyword['JOB_TITLE'].str.contains(keyword, case=False)]\n",
    "\n",
    "    return df_keyword"
   ]
  },
  {
   "cell_type": "code",
   "execution_count": null,
   "metadata": {},
   "outputs": [],
   "source": [
    "# Define keywords to search\n",
    "# Recommended to go from general to specific roles\n",
    "keywords = ['engineer', 'mechanical']\n",
    "year = '2023'"
   ]
  },
  {
   "cell_type": "code",
   "execution_count": null,
   "metadata": {},
   "outputs": [],
   "source": [
    "# Setup directories\n",
    "current_directory = os.getcwd()\n",
    "parent_directory = os.path.dirname(current_directory)"
   ]
  },
  {
   "cell_type": "code",
   "execution_count": null,
   "metadata": {},
   "outputs": [],
   "source": [
    "# Setup directory to extract the data from\n",
    "path_to_data_folder = os.path.join(parent_directory, 'lca_program_sheets', year)\n",
    "\n",
    "# List all the excel file in the directory\n",
    "files = [file for file in os.listdir(path_to_data_folder) if file.endswith('.xlsx')]\n",
    "\n",
    "# Sort the files in ascending order\n",
    "files.sort()"
   ]
  },
  {
   "cell_type": "code",
   "execution_count": null,
   "metadata": {},
   "outputs": [],
   "source": [
    "# Setup directory to save the data\n",
    "folder_name = '_'.join(keywords)\n",
    "path_to_save_folder = os.path.join(parent_directory, 'extracted', folder_name)\n",
    "\n",
    "# Check if the directory exists or not\n",
    "if not os.path.exists(path_to_save_folder):\n",
    "\n",
    "    # Create the directory\n",
    "    print(f'The directory {path_to_save_folder} does not exist. So, created this folder.')\n",
    "    os.makedirs(path_to_save_folder)"
   ]
  },
  {
   "cell_type": "code",
   "execution_count": null,
   "metadata": {},
   "outputs": [],
   "source": [
    "# Loop through all the excel files\n",
    "for file in files:\n",
    "\n",
    "    # Print message to user\n",
    "    print(f'Extracting data from {file}...')\n",
    "\n",
    "    # Read the excel file\n",
    "    path_to_data_file = os.path.join(path_to_data_folder, file)\n",
    "\n",
    "    # Read the excel file using pandas\n",
    "    columns_to_load = ['JOB_TITLE', 'SOC_TITLE', 'EMPLOYER_NAME', 'EMPLOYER_STATE']\n",
    "    df = pd.read_excel(path_to_data_file, usecols=columns_to_load)\n",
    "\n",
    "    # Extract data from the excel file based on keywords\n",
    "    df_keyword = extract_data(keywords, path_to_save_folder, df)\n",
    "\n",
    "    # If the dataframe is not empty, save it as an excel file\n",
    "    if not df_keyword.empty:\n",
    "\n",
    "        # Keep only a single row from a single company\n",
    "        unique_df_keyword = df_keyword.drop_duplicates(subset=['EMPLOYER_NAME'], keep='first')\n",
    "\n",
    "        # Path to save the file\n",
    "        path_to_save_file = os.path.join(path_to_save_folder, file)\n",
    "\n",
    "        # Save the file as a separate excel file\n",
    "        unique_df_keyword.to_excel(path_to_save_file, index=False)"
   ]
  },
  {
   "cell_type": "code",
   "execution_count": null,
   "metadata": {},
   "outputs": [],
   "source": [
    "# If the extracted data directory is empty, delete it\n",
    "if len(os.listdir(path_to_save_folder)) == 0:\n",
    "\n",
    "    # Remove directory\n",
    "    os.rmdir(path_to_save_folder)\n",
    "    print(f'Deleted {path_to_save_folder} folder.')"
   ]
  }
 ],
 "metadata": {
  "kernelspec": {
   "display_name": "ml_sft_env",
   "language": "python",
   "name": "python3"
  },
  "language_info": {
   "codemirror_mode": {
    "name": "ipython",
    "version": 3
   },
   "file_extension": ".py",
   "mimetype": "text/x-python",
   "name": "python",
   "nbconvert_exporter": "python",
   "pygments_lexer": "ipython3",
   "version": "3.9.17"
  }
 },
 "nbformat": 4,
 "nbformat_minor": 2
}
